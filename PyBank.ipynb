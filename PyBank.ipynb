{
 "cells": [
  {
   "cell_type": "code",
   "execution_count": 1,
   "metadata": {},
   "outputs": [],
   "source": [
    "#import libraries\n",
    "# import pandas as pd\n",
    "import numpy \n",
    "import numpy_financial as np\n",
    "from pathlib import Path\n",
    "import csv"
   ]
  },
  {
   "cell_type": "code",
   "execution_count": 2,
   "metadata": {},
   "outputs": [],
   "source": [
    "csvpath = Path(\"budget_data.csv\")"
   ]
  },
  {
   "cell_type": "code",
   "execution_count": 3,
   "metadata": {},
   "outputs": [],
   "source": [
    "# Initialize variable to hold Profit/Losses\n",
    "PnL = []\n",
    "\n",
    "# Initialize line_num variable\n",
    "line_num = 0\n"
   ]
  },
  {
   "cell_type": "code",
   "execution_count": 4,
   "metadata": {},
   "outputs": [],
   "source": [
    "#define variables\n"
   ]
  },
  {
   "cell_type": "code",
   "execution_count": 6,
   "metadata": {},
   "outputs": [
    {
     "name": "stdout",
     "output_type": "stream",
     "text": [
      "\n",
      "\n",
      "Financial Analysis\n",
      "---------------------------\n",
      "Total Months: 86\n",
      "Total: $38382578\n",
      "Average  Change: $-2315.12\n",
      "Greatest Increase in Profits: Feb-12 ($1926159)\n",
      "Greatest Decrease in Profits: Sep-13 ($-2196167)\n",
      "\n"
     ]
    }
   ],
   "source": [
    "num_months = 0\n",
    "min_profit = 9999999999\n",
    "max_profit = -9999999999\n",
    "min_month = \"\"\n",
    "max_month = \"\"\n",
    "total = 0\n",
    "last_profit = 0\n",
    "change1 = 0\n",
    "with open('budget_data.csv','r') as csvfile:\n",
    "    csvreader = csv.reader(csvfile, delimiter = ',')\n",
    "    header = next(csvreader)\n",
    "    #months += 1\n",
    "#     print(f\"{header} <---- HEADER\")\n",
    "#     print(len(row))\n",
    "    for row in csvreader:\n",
    "        num_months +=1\n",
    "        \n",
    "#         print(row)\n",
    "        Profit = int(row[1])\n",
    "        total = total + Profit\n",
    "        if last_profit ==0:\n",
    "            last_profit = Profit\n",
    "        else:\n",
    "#             change1 = change1 + [(Profit - last_profit)]\n",
    "            curr_change = Profit - last_profit\n",
    "            change1 = change1 + curr_change\n",
    "            last_profit = Profit\n",
    "            \n",
    "            if max_profit < curr_change:\n",
    "                max_profit = curr_change\n",
    "                max_month = row[0]\n",
    "            if min_profit > curr_change:\n",
    "                min_profit = curr_change\n",
    "                min_month = row[0]\n",
    "print(\"\")\n",
    "print(\"\")\n",
    "# print(\"\" + str())\n",
    "# print(\" + str())\n",
    "tt = round(change1/(num_months-1), 2)\n",
    "\n",
    "\n",
    "\n",
    "st = \"Financial Analysis\\r\\n\"\n",
    "st += \"---------------------------\\r\\n\"\n",
    "st += f\"Total Months: {num_months}\\r\\n\"\n",
    "st += f\"Total: ${total}\\r\\n\"\n",
    "st += f\"Average  Change: ${tt}\\r\\n\"\n",
    "st += f\"Greatest Increase in Profits: {max_month} (${max_profit})\\r\\n\"\n",
    "st += f\"Greatest Decrease in Profits: {min_month} (${min_profit})\\r\\n\"\n",
    "\n",
    "print(st)\n"
   ]
  },
  {
   "cell_type": "code",
   "execution_count": 7,
   "metadata": {},
   "outputs": [],
   "source": [
    "with open('output.text', 'w') as output:\n",
    "    output.write(st)\n",
    "#     output.write(\"Financial Analysis\"\n",
    "#     output.write(---------------------------\"\n",
    "#     output.write(f\"Total Months: {num_months}\"\n",
    "#     output.write(f\"Total: ${total}\"\n",
    "#     output.write(f\"Average  Change: ${tt}\"\n",
    "#     output.write(f\"Greatest Increase in Profits: {max_month} (${max_profit})\"\n",
    "#     output.write(f\"Greatest Decrease in Profits: {min_month} (${min_profit})\"\n",
    "    "
   ]
  },
  {
   "cell_type": "code",
   "execution_count": null,
   "metadata": {},
   "outputs": [],
   "source": []
  }
 ],
 "metadata": {
  "kernelspec": {
   "display_name": "Python 3",
   "language": "python",
   "name": "python3"
  },
  "language_info": {
   "codemirror_mode": {
    "name": "ipython",
    "version": 3
   },
   "file_extension": ".py",
   "mimetype": "text/x-python",
   "name": "python",
   "nbconvert_exporter": "python",
   "pygments_lexer": "ipython3",
   "version": "3.7.7"
  }
 },
 "nbformat": 4,
 "nbformat_minor": 4
}
